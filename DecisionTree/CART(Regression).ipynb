{
 "cells": [
  {
   "cell_type": "code",
   "execution_count": 1,
   "metadata": {},
   "outputs": [],
   "source": [
    "import numpy as np\n",
    "import pandas as pd\n",
    "import treePlotter"
   ]
  },
  {
   "cell_type": "code",
   "execution_count": 61,
   "metadata": {},
   "outputs": [],
   "source": [
    "# 读取小费数据集\n",
    "tips = pd.read_csv(r'C:\\Users\\vincen\\Desktop\\资料\\Machine Learning\\data\\seaborn-data-master\\tips.csv',\n",
    "                   sep = ',',\n",
    "                   encoding = 'utf-8',\n",
    "                  header = 0,\n",
    "                  engine = 'python')\n",
    "# 划分训练集和测试集\n",
    "# train_set = tips.sample(frac = 0.8,\n",
    "#                         replace = False,\n",
    "#                         axis = 0,\n",
    "#                        random_state = 42)\n",
    "# test_set = tips[~tips.index.isin(train_set.index)]\n",
    "train_set = tips"
   ]
  },
  {
   "cell_type": "code",
   "execution_count": 64,
   "metadata": {},
   "outputs": [
    {
     "data": {
      "text/html": [
       "<div>\n",
       "<style scoped>\n",
       "    .dataframe tbody tr th:only-of-type {\n",
       "        vertical-align: middle;\n",
       "    }\n",
       "\n",
       "    .dataframe tbody tr th {\n",
       "        vertical-align: top;\n",
       "    }\n",
       "\n",
       "    .dataframe thead th {\n",
       "        text-align: right;\n",
       "    }\n",
       "</style>\n",
       "<table border=\"1\" class=\"dataframe\">\n",
       "  <thead>\n",
       "    <tr style=\"text-align: right;\">\n",
       "      <th></th>\n",
       "      <th>total_bill</th>\n",
       "      <th>tip</th>\n",
       "      <th>sex</th>\n",
       "      <th>smoker</th>\n",
       "      <th>day</th>\n",
       "      <th>time</th>\n",
       "      <th>size</th>\n",
       "    </tr>\n",
       "  </thead>\n",
       "  <tbody>\n",
       "    <tr>\n",
       "      <th>0</th>\n",
       "      <td>16.99</td>\n",
       "      <td>1.01</td>\n",
       "      <td>Female</td>\n",
       "      <td>No</td>\n",
       "      <td>Sun</td>\n",
       "      <td>Dinner</td>\n",
       "      <td>2</td>\n",
       "    </tr>\n",
       "    <tr>\n",
       "      <th>1</th>\n",
       "      <td>10.34</td>\n",
       "      <td>1.66</td>\n",
       "      <td>Male</td>\n",
       "      <td>No</td>\n",
       "      <td>Sun</td>\n",
       "      <td>Dinner</td>\n",
       "      <td>3</td>\n",
       "    </tr>\n",
       "    <tr>\n",
       "      <th>2</th>\n",
       "      <td>21.01</td>\n",
       "      <td>3.50</td>\n",
       "      <td>Male</td>\n",
       "      <td>No</td>\n",
       "      <td>Sun</td>\n",
       "      <td>Dinner</td>\n",
       "      <td>3</td>\n",
       "    </tr>\n",
       "    <tr>\n",
       "      <th>3</th>\n",
       "      <td>23.68</td>\n",
       "      <td>3.31</td>\n",
       "      <td>Male</td>\n",
       "      <td>No</td>\n",
       "      <td>Sun</td>\n",
       "      <td>Dinner</td>\n",
       "      <td>2</td>\n",
       "    </tr>\n",
       "    <tr>\n",
       "      <th>4</th>\n",
       "      <td>24.59</td>\n",
       "      <td>3.61</td>\n",
       "      <td>Female</td>\n",
       "      <td>No</td>\n",
       "      <td>Sun</td>\n",
       "      <td>Dinner</td>\n",
       "      <td>4</td>\n",
       "    </tr>\n",
       "  </tbody>\n",
       "</table>\n",
       "</div>"
      ],
      "text/plain": [
       "   total_bill   tip     sex smoker  day    time  size\n",
       "0       16.99  1.01  Female     No  Sun  Dinner     2\n",
       "1       10.34  1.66    Male     No  Sun  Dinner     3\n",
       "2       21.01  3.50    Male     No  Sun  Dinner     3\n",
       "3       23.68  3.31    Male     No  Sun  Dinner     2\n",
       "4       24.59  3.61  Female     No  Sun  Dinner     4"
      ]
     },
     "metadata": {},
     "output_type": "display_data"
    },
    {
     "data": {
      "text/plain": [
       "(244, 7)"
      ]
     },
     "metadata": {},
     "output_type": "display_data"
    }
   ],
   "source": [
    "display(tips.head())\n",
    "display(tips.shape)"
   ]
  },
  {
   "cell_type": "code",
   "execution_count": 65,
   "metadata": {},
   "outputs": [],
   "source": [
    "# 计算Gini指数(Regression中为样本方差)\n",
    "def Gini(dataset,label_name = 'label'):\n",
    "    '''\n",
    "    parameters:\n",
    "        dataset:数据集 DataFrame类型\n",
    "        label_name:标签列的名称 str类型\n",
    "    '''\n",
    "    # 若DataFrame中样本数少于2,方法var()返回nan,此时方差应为0\n",
    "    if dataset.shape[0] < 2:\n",
    "        return 0\n",
    "    # 若DataFrame中只有一个样本\n",
    "    else:\n",
    "        return dataset[label_name].var()*dataset.shape[0]"
   ]
  },
  {
   "cell_type": "code",
   "execution_count": 66,
   "metadata": {},
   "outputs": [
    {
     "data": {
      "text/plain": [
       "467.1269316872433"
      ]
     },
     "execution_count": 66,
     "metadata": {},
     "output_type": "execute_result"
    }
   ],
   "source": [
    "Gini(tips,label_name = 'tip')"
   ]
  },
  {
   "cell_type": "code",
   "execution_count": 67,
   "metadata": {},
   "outputs": [],
   "source": [
    "# 按指定feature切分数据集\n",
    "def spilt_dataset(dataset,spilt_feature,spilt_value = None):\n",
    "    '''\n",
    "    parameters:\n",
    "        dataset:数据集 DataFrame类型\n",
    "        spilt_feature:划分dataset的feature名称\n",
    "        spilt_value:划分dataset的feature的划分点，可不填\n",
    "    '''\n",
    "    # 若spilt_value不为None，则按spilt_value与spilt_feature去划分dataset\n",
    "    if spilt_value != None:\n",
    "        group_dict = {}\n",
    "        if dataset[spilt_feature].dtype == 'float':\n",
    "            # 若属性为连续型，注意不需要删除属性列\n",
    "            group_dict['$\\leq$'+str(spilt_value)] = dataset[dataset[spilt_feature] <= spilt_value]\n",
    "            group_dict['$>$'+str(spilt_value)] = dataset[dataset[spilt_feature] > spilt_value]\n",
    "            return group_dict\n",
    "        else:\n",
    "            group_dict[str(spilt_value)] = dataset[dataset[spilt_feature] == spilt_value]\n",
    "            group_dict['$\\\\neq$'+str(spilt_value)] = dataset[dataset[spilt_feature] != spilt_value]\n",
    "            return group_dict\n",
    "        \n",
    "    # @@@@@CART不需要删除属性列\n",
    "    if dataset[spilt_feature].dtype == 'float':\n",
    "        dataset.sort_values(spilt_feature,inplace = True)\n",
    "        groups = dataset.groupby(spilt_feature)\n",
    "        # 获取各组的DataFrame\n",
    "        groups = [group for name,group in groups]\n",
    "        # 获取spilt_feature的所有可能的原始value\n",
    "        init_spilt_feature_value = dataset[spilt_feature].unique()\n",
    "        # 计算相邻两数的中间值,作为可能分界点用spilt_feature_value保存\n",
    "        spilt_feature_value = []\n",
    "        '''为可视化美观，保留一位小数'''\n",
    "        for i in range(len(init_spilt_feature_value)):\n",
    "            if i == 0:\n",
    "                spilt_feature_value.append(round(init_spilt_feature_value[i],1))\n",
    "            else:\n",
    "                spilt_feature_value.append((round((init_spilt_feature_value[i] + init_spilt_feature_value[i-1])/2,1)))\n",
    "        # 转化为ndarray\n",
    "        spilt_feature_value = np.asarray(spilt_feature_value)\n",
    "        # 建立分裂数据集字典\n",
    "        group_dict = {}\n",
    "        for value,group in zip(spilt_feature_value,groups):\n",
    "            group_dict[value] = group\n",
    "        return group_dict\n",
    "    else:\n",
    "        groups = dataset.groupby(spilt_feature)\n",
    "        group_dict = {}\n",
    "        # 用于保存spilt_feature的值，用以生成决策树的分支条件\n",
    "        for name,group in groups:\n",
    "            group_dict[name] = group\n",
    "        # 返回划分好的属性集，以字典形式，value内是dataframe类型\n",
    "        return group_dict"
   ]
  },
  {
   "cell_type": "code",
   "execution_count": 68,
   "metadata": {},
   "outputs": [
    {
     "name": "stdout",
     "output_type": "stream",
     "text": [
      "True\n",
      "False\n"
     ]
    },
    {
     "data": {
      "text/plain": [
       "dtype('O')"
      ]
     },
     "execution_count": 68,
     "metadata": {},
     "output_type": "execute_result"
    }
   ],
   "source": [
    "dataset = train_set\n",
    "spilt_feature = 'total_bill'\n",
    "print(dataset[spilt_feature].dtype == 'float')\n",
    "print(len(spilt_dataset(train_set,spilt_feature)) == train_set[spilt_feature].unique().shape[0])\n",
    "spilt_feature = 'sex'\n",
    "dataset[spilt_feature].dtype\n",
    "# spilt_dataset(train_set,spilt_feature)"
   ]
  },
  {
   "cell_type": "code",
   "execution_count": 69,
   "metadata": {},
   "outputs": [],
   "source": [
    "def select_best_feature(dataset,label_name = 'label'):\n",
    "    # 获取属性名称并删除标签列\n",
    "    feature_names = dataset.drop(label_name,inplace = False,axis = 1).columns\n",
    "    # Gini_dict：用于记录每种属性使gini指数达到最小的属性取值\n",
    "    Gini_dict = {}\n",
    "    # 遍历所有属性列\n",
    "    for feature in feature_names:\n",
    "        # 按feature划分dataset\n",
    "        group_dict = spilt_dataset(dataset,spilt_feature = feature)\n",
    "        # 若属性为连续值\n",
    "        if dataset[feature].dtype == 'float':\n",
    "            # 获取分裂值\n",
    "            key_list = np.asarray(list(group_dict.keys()),dtype = 'float')\n",
    "            # 遍历key_list所有value\n",
    "            Gini_list = []\n",
    "            for key in key_list:\n",
    "                # 小于等于当前分裂值的data记为group1\n",
    "                group1 = dataset[dataset[feature] <= key]\n",
    "                # 大于当前分裂值得data记为group2\n",
    "                group2 = dataset[dataset[feature] > key]\n",
    "                Gini_list.append(Gini(group1,label_name = label_name) + Gini(group2,label_name = label_name))\n",
    "            Gini_dict[feature] = key_list[Gini_list.index(min(Gini_list))],min(Gini_list)\n",
    "        else:\n",
    "            # 获取分裂值\n",
    "            key_list = np.asarray(list(group_dict.keys()))\n",
    "            # 遍历key_list所有value\n",
    "            Gini_list = []\n",
    "            for key in key_list:\n",
    "                # 等于当前分裂值的data记为group1\n",
    "                group1 = dataset[dataset[feature] == key]\n",
    "                # 不等于当前分裂值得data记为group2\n",
    "                group2 = dataset[dataset[feature] != key]\n",
    "                Gini_list.append(Gini(group1,label_name = label_name) + Gini(group2,label_name = label_name))\n",
    "            Gini_dict[feature] = key_list[Gini_list.index(min(Gini_list))],min(Gini_list)\n",
    "    # 获取各feature的最小gini值\n",
    "    gini_value = []\n",
    "    for tup in Gini_dict.values():\n",
    "        gini_value.append(tup[1])\n",
    "    # 从gini_value挑选出value最小的feature和分裂点\n",
    "    best_feature,best_split_value = (list(Gini_dict.keys())[gini_value.index(min(gini_value))],\n",
    "                                    list(Gini_dict.values())[gini_value.index(min(gini_value))][0]\n",
    "                                    )\n",
    "    return best_feature,best_split_value"
   ]
  },
  {
   "cell_type": "code",
   "execution_count": 70,
   "metadata": {},
   "outputs": [
    {
     "data": {
      "text/plain": [
       "('total_bill', 20.3)"
      ]
     },
     "execution_count": 70,
     "metadata": {},
     "output_type": "execute_result"
    }
   ],
   "source": [
    "# # 函数测试参数设置\n",
    "# dataset = train_set\n",
    "# label_name = 'tip'\n",
    "# # 获取属性名称并删除标签列\n",
    "# feature_names = dataset.drop(label_name,inplace = False,axis = 1).columns\n",
    "# # Gini_dict：用于记录每种属性使gini指数达到最小的属性取值\n",
    "# Gini_dict = {}\n",
    "# # 遍历所有属性列\n",
    "# for feature in feature_names:\n",
    "#     # 按feature划分dataset\n",
    "#     group_dict = spilt_dataset(dataset,spilt_feature = feature)\n",
    "#     # 若属性为连续值\n",
    "#     if dataset[feature].dtype == 'float':\n",
    "#         # 获取分裂值\n",
    "#         key_list = np.asarray(list(group_dict.keys()),dtype = 'float')\n",
    "#         # 遍历key_list所有value\n",
    "#         Gini_list = []\n",
    "#         for key in key_list:\n",
    "#             # 小于等于当前分裂值的data记为group1\n",
    "#             group1 = dataset[dataset[feature] <= key]\n",
    "#             # 大于当前分裂值得data记为group2\n",
    "#             group2 = dataset[dataset[feature] > key]\n",
    "#             Gini_list.append(Gini(group1,label_name = label_name) + Gini(group2,label_name = label_name))\n",
    "#         Gini_dict[feature] = key_list[Gini_list.index(min(Gini_list))],min(Gini_list)\n",
    "#     else:\n",
    "#         # 获取分裂值\n",
    "#         key_list = np.asarray(list(group_dict.keys()))\n",
    "#         # 遍历key_list所有value\n",
    "#         Gini_list = []\n",
    "#         for key in key_list:\n",
    "#             # 等于当前分裂值的data记为group1\n",
    "#             group1 = dataset[dataset[feature] == key]\n",
    "#             # 不等于当前分裂值得data记为group2\n",
    "#             group2 = dataset[dataset[feature] != key]\n",
    "#             Gini_list.append(Gini(group1,label_name = label_name) + Gini(group2,label_name = label_name))\n",
    "#         Gini_dict[feature] = key_list[Gini_list.index(min(Gini_list))],min(Gini_list)\n",
    "# # 获取各feature的最小gini值\n",
    "# gini_value = []\n",
    "# for tup in Gini_dict.values():\n",
    "#     gini_value.append(tup[1])\n",
    "# # 从gini_value挑选出value最小的feature和分裂点\n",
    "# best_feature,best_split_value = (list(Gini_dict.keys())[gini_value.index(min(gini_value))],\n",
    "#                                 list(Gini_dict.values())[gini_value.index(min(gini_value))][0]\n",
    "#                                 )\n",
    "# best_feature,best_split_value\n",
    "select_best_feature(dataset,label_name = 'tip')"
   ]
  },
  {
   "cell_type": "code",
   "execution_count": 78,
   "metadata": {},
   "outputs": [],
   "source": [
    "# 李航 统计学习方法 P70-P71\n",
    "def RegressionTree(dataset,init_dataset = train_set,label_name = 'label',min_sample = 5,epsilon = 20):\n",
    "    '''\n",
    "    paramters:\n",
    "        dataset:数据集\n",
    "        init_dataset:第一次递归传入的数据集\n",
    "        label_name:标签列的名称\n",
    "        min_sample:叶子的最小样本数\n",
    "        epsilon:GINI指数的阈值\n",
    "    '''\n",
    "    '''为可视化美观，返回结果保留一位小数'''\n",
    "    # 若D中样本个数小于预定阈值,返回均值\n",
    "    if dataset.shape[0] < min_sample:\n",
    "        return round(dataset[label_name].mean(),1)\n",
    "    # 若A = $\\empty$ or D中样本在A上取值相同\n",
    "    # 将结点标记为叶结点，其类别标记为D中样本最多的类\n",
    "    if dataset.columns[0:-1].shape[0] == 0 or dataset.loc[:,dataset.columns[0:-1]].drop_duplicates().shape[0] == 1:\n",
    "        # 返回D中样本均值\n",
    "        return round(dataset[label_name].mean(),1)\n",
    "    #若样本集的基尼指数小于预定阈值，返回均值\n",
    "    if Gini(dataset,label_name = label_name) < epsilon:\n",
    "        return round(dataset[label_name].mean(),1)\n",
    "    #选择最优属性\n",
    "    best_feature,best_spilt_value = select_best_feature(dataset,label_name = label_name)\n",
    "    # 用最优属性划分D\n",
    "    subdataset_dict = spilt_dataset(dataset,spilt_feature = best_feature,spilt_value = best_spilt_value)\n",
    "    # 生成根节点\n",
    "    dtree = {best_feature:{}}\n",
    "    # 二叉生成\n",
    "    for key in list(subdataset_dict.keys()):\n",
    "        dtree[best_feature][key] = RegressionTree(subdataset_dict[key],label_name = label_name)\n",
    "    return dtree"
   ]
  },
  {
   "cell_type": "code",
   "execution_count": 79,
   "metadata": {},
   "outputs": [
    {
     "name": "stderr",
     "output_type": "stream",
     "text": [
      "C:\\Users\\vincen\\Anaconda3\\lib\\site-packages\\ipykernel_launcher.py:24: SettingWithCopyWarning: \n",
      "A value is trying to be set on a copy of a slice from a DataFrame\n",
      "\n",
      "See the caveats in the documentation: http://pandas.pydata.org/pandas-docs/stable/indexing.html#indexing-view-versus-copy\n"
     ]
    }
   ],
   "source": [
    "rtree = RegressionTree(train_set,label_name = 'tip')"
   ]
  },
  {
   "cell_type": "code",
   "execution_count": 80,
   "metadata": {},
   "outputs": [
    {
     "data": {
      "image/png": "[encoded data removed]",
      "text/plain": [
       "<Figure size 432x288 with 1 Axes>"
      ]
     },
     "metadata": {},
     "output_type": "display_data"
    }
   ],
   "source": [
    "import matplotlib.pyplot as plt\n",
    "plt.figure()\n",
    "treePlotter.createPlot(rtree)"
   ]
  },
  {
   "cell_type": "code",
   "execution_count": 81,
   "metadata": {},
   "outputs": [
    {
     "data": {
      "text/plain": [
       "{'total_bill': {'$\\\\leq$20.3': {'total_bill': {'$\\\\leq$13.9': {'day': {'Sun': 2.4,\n",
       "      '$\\\\neq$Sun': 1.8}},\n",
       "    '$>$13.9': {'total_bill': {'$\\\\leq$16.5': 2.5,\n",
       "      '$>$16.5': {'smoker': {'No': 2.8, '$\\\\neq$No': 3.4}}}}}},\n",
       "  '$>$20.3': {'total_bill': {'$\\\\leq$48.2': {'size': {'2': {'total_bill': {'$\\\\leq$25.8': {'total_bill': {'$\\\\leq$24.5': 3.4,\n",
       "          '$>$24.5': 5.0}},\n",
       "        '$>$25.8': 2.9}},\n",
       "      '$\\\\neq$2': {'total_bill': {'$\\\\leq$25.1': {'day': {'Sun': 3.9,\n",
       "          '$\\\\neq$Sun': 2.9}},\n",
       "        '$>$25.1': {'smoker': {'No': {'total_bill': {'$\\\\leq$28.8': 3.9,\n",
       "            '$>$28.8': 5.3}},\n",
       "          '$\\\\neq$No': {'total_bill': {'$\\\\leq$25.9': 5.2,\n",
       "            '$>$25.9': {'day': {'Thur': 5.0, '$\\\\neq$Thur': 3.4}}}}}}}}}},\n",
       "    '$>$48.2': 8.6}}}}"
      ]
     },
     "execution_count": 81,
     "metadata": {},
     "output_type": "execute_result"
    }
   ],
   "source": [
    "rtree"
   ]
  },
  {
   "cell_type": "code",
   "execution_count": null,
   "metadata": {},
   "outputs": [],
   "source": []
  }
 ],
 "metadata": {
  "kernelspec": {
   "display_name": "Python 3",
   "language": "python",
   "name": "python3"
  },
  "language_info": {
   "codemirror_mode": {
    "name": "ipython",
    "version": 3
   },
   "file_extension": ".py",
   "mimetype": "text/x-python",
   "name": "python",
   "nbconvert_exporter": "python",
   "pygments_lexer": "ipython3",
   "version": "3.7.1"
  }
 },
 "nbformat": 4,
 "nbformat_minor": 2
}
