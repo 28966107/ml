{
 "cells": [
  {
   "cell_type": "code",
   "execution_count": 1,
   "metadata": {},
   "outputs": [],
   "source": [
    "import numpy as np\n",
    "import pandas as pd"
   ]
  },
  {
   "cell_type": "code",
   "execution_count": 2,
   "metadata": {},
   "outputs": [],
   "source": [
    "def createTrainSet():\n",
    "    \"\"\"\n",
    "    outlook->  0: sunny | 1: overcast | 2: rain\n",
    "    temperature-> 0: hot | 1: mild | 2: cool\n",
    "    humidity-> 0: high | 1: normal\n",
    "    windy-> 0: false | 1: true\n",
    "    \"\"\"\n",
    "    dataSet = pd.DataFrame([[0, 0, 0, 0, 'N'],\n",
    "               [0, 0, 0, 1, 'N'],\n",
    "               [1, 0, 0, 0, 'Y'],\n",
    "               [2, 1, 0, 0, 'Y'],\n",
    "               [2, 2, 1, 0, 'Y'],\n",
    "               [2, 2, 1, 1, 'N'],\n",
    "               [1, 2, 1, 1, 'Y']],columns = ['outlook', 'temperature', 'humidity', 'windy','label'])\n",
    "    return dataSet\n",
    "\n",
    "def createTestSet():\n",
    "    \"\"\"\n",
    "    outlook->  0: sunny | 1: overcast | 2: rain\n",
    "    temperature-> 0: hot | 1: mild | 2: cool\n",
    "    humidity-> 0: high | 1: normal\n",
    "    windy-> 0: false | 1: true\n",
    "    \"\"\"\n",
    "    testSet = pd.DataFrame([[0, 1, 0, 0],\n",
    "               [0, 2, 1, 0],\n",
    "               [2, 1, 1, 0],\n",
    "               [0, 1, 1, 1],\n",
    "               [1, 1, 0, 1],\n",
    "               [1, 0, 1, 0],\n",
    "               [2, 1, 0, 1]],columns = ['outlook', 'temperature', 'humidity', 'windy'])\n",
    "    return testSet"
   ]
  },
  {
   "cell_type": "code",
   "execution_count": 3,
   "metadata": {},
   "outputs": [
    {
     "data": {
      "text/html": [
       "<div>\n",
       "<style scoped>\n",
       "    .dataframe tbody tr th:only-of-type {\n",
       "        vertical-align: middle;\n",
       "    }\n",
       "\n",
       "    .dataframe tbody tr th {\n",
       "        vertical-align: top;\n",
       "    }\n",
       "\n",
       "    .dataframe thead th {\n",
       "        text-align: right;\n",
       "    }\n",
       "</style>\n",
       "<table border=\"1\" class=\"dataframe\">\n",
       "  <thead>\n",
       "    <tr style=\"text-align: right;\">\n",
       "      <th></th>\n",
       "      <th>outlook</th>\n",
       "      <th>temperature</th>\n",
       "      <th>humidity</th>\n",
       "      <th>windy</th>\n",
       "      <th>label</th>\n",
       "    </tr>\n",
       "  </thead>\n",
       "  <tbody>\n",
       "    <tr>\n",
       "      <th>0</th>\n",
       "      <td>0</td>\n",
       "      <td>0</td>\n",
       "      <td>0</td>\n",
       "      <td>0</td>\n",
       "      <td>N</td>\n",
       "    </tr>\n",
       "    <tr>\n",
       "      <th>1</th>\n",
       "      <td>0</td>\n",
       "      <td>0</td>\n",
       "      <td>0</td>\n",
       "      <td>1</td>\n",
       "      <td>N</td>\n",
       "    </tr>\n",
       "    <tr>\n",
       "      <th>2</th>\n",
       "      <td>1</td>\n",
       "      <td>0</td>\n",
       "      <td>0</td>\n",
       "      <td>0</td>\n",
       "      <td>Y</td>\n",
       "    </tr>\n",
       "    <tr>\n",
       "      <th>3</th>\n",
       "      <td>2</td>\n",
       "      <td>1</td>\n",
       "      <td>0</td>\n",
       "      <td>0</td>\n",
       "      <td>Y</td>\n",
       "    </tr>\n",
       "    <tr>\n",
       "      <th>4</th>\n",
       "      <td>2</td>\n",
       "      <td>2</td>\n",
       "      <td>1</td>\n",
       "      <td>0</td>\n",
       "      <td>Y</td>\n",
       "    </tr>\n",
       "  </tbody>\n",
       "</table>\n",
       "</div>"
      ],
      "text/plain": [
       "   outlook  temperature  humidity  windy label\n",
       "0        0            0         0      0     N\n",
       "1        0            0         0      1     N\n",
       "2        1            0         0      0     Y\n",
       "3        2            1         0      0     Y\n",
       "4        2            2         1      0     Y"
      ]
     },
     "execution_count": 3,
     "metadata": {},
     "output_type": "execute_result"
    }
   ],
   "source": [
    "train_set= createTrainSet()\n",
    "test_set = createTestSet()\n",
    "train_set.head()"
   ]
  },
  {
   "cell_type": "code",
   "execution_count": 4,
   "metadata": {},
   "outputs": [],
   "source": [
    "# 计算信息熵\n",
    "def entropy(dataset):\n",
    "    '''\n",
    "    entropy = -sum(p_i*log(p_i))\n",
    "    '''\n",
    "    label_count = dataset.groupby('label').count().iloc[:,1]\n",
    "    # 计算entropy\n",
    "    entropy = (-(label_count/label_count.sum())*np.log2(label_count/label_count.sum())).sum()\n",
    "    return entropy"
   ]
  },
  {
   "cell_type": "code",
   "execution_count": 5,
   "metadata": {},
   "outputs": [
    {
     "data": {
      "text/plain": [
       "0.9852281360342515"
      ]
     },
     "execution_count": 5,
     "metadata": {},
     "output_type": "execute_result"
    }
   ],
   "source": [
    "entropy(train_set)"
   ]
  },
  {
   "cell_type": "code",
   "execution_count": 6,
   "metadata": {},
   "outputs": [],
   "source": [
    "# 按属性切分数据集并删除该feature\n",
    "def spilt_dataset(dataset,spilt_feature):\n",
    "    groups = dataset.groupby(spilt_feature)\n",
    "    group_dict = {}\n",
    "    # 用于保存spilt_feature的值，用以生成决策树的分支条件\n",
    "    for name,group in groups:\n",
    "        # 删除feature属性列\n",
    "        group.drop(spilt_feature,inplace = True,axis = 1)\n",
    "        group_dict[name] = group\n",
    "    # 返回划分好的属性集，以字典形式，value内是dataframe类型\n",
    "    return group_dict"
   ]
  },
  {
   "cell_type": "code",
   "execution_count": 8,
   "metadata": {},
   "outputs": [
    {
     "data": {
      "text/plain": [
       "{0:    temperature  humidity  windy label\n",
       " 0            0         0      0     N\n",
       " 1            0         0      1     N,\n",
       " 1:    temperature  humidity  windy label\n",
       " 2            0         0      0     Y\n",
       " 6            2         1      1     Y,\n",
       " 2:    temperature  humidity  windy label\n",
       " 3            1         0      0     Y\n",
       " 4            2         1      0     Y\n",
       " 5            2         1      1     N}"
      ]
     },
     "execution_count": 8,
     "metadata": {},
     "output_type": "execute_result"
    }
   ],
   "source": [
    "group_dict = spilt_dataset(train_set,spilt_feature = 'outlook')\n",
    "group_dict"
   ]
  },
  {
   "cell_type": "code",
   "execution_count": 18,
   "metadata": {},
   "outputs": [],
   "source": [
    "# 利用信息增益选择最优的spilt_feature\n",
    "def select_best_feature(dataset):\n",
    "    Gain = []\n",
    "    # 遍历数据集中的feature\n",
    "    for feature in dataset.columns[0:-1]:\n",
    "        # 按feature划分数据集\n",
    "        group_dict = spilt_dataset(train_set,spilt_feature = feature)\n",
    "        # feature entropy\n",
    "        feature_entropy = 0\n",
    "        for group in group_dict.values():\n",
    "        # 计算按属性划分后的信息增益\n",
    "            feature_entropy += group.shape[0]/dataset.shape[0]*entropy(group)\n",
    "        # 计算信息增益添加至Gain_ratio中\n",
    "        Gain.append(entropy(dataset) - feature_entropy)\n",
    "    return dataset.columns[Gain.index(max(Gain))],Gain"
   ]
  },
  {
   "cell_type": "code",
   "execution_count": 14,
   "metadata": {},
   "outputs": [
    {
     "data": {
      "text/plain": [
       "('outlook',\n",
       " [0.5916727785823275,\n",
       "  0.19811742113040343,\n",
       "  0.020244207153756077,\n",
       "  0.12808527889139443])"
      ]
     },
     "execution_count": 14,
     "metadata": {},
     "output_type": "execute_result"
    }
   ],
   "source": [
    "select_best_feature(train_set)"
   ]
  },
  {
   "cell_type": "code",
   "execution_count": 19,
   "metadata": {},
   "outputs": [],
   "source": [
    "# 周志华 机器学习 P74\n",
    "def DecisionTree(dataset,init_dataset = train_set):\n",
    "    # 若D中样本全部属于同一类别C，node标记为C类结点\n",
    "    if dataset.label.unique().shape[0] == 1:\n",
    "        return dataset.iloc[0,-1]\n",
    "    # 若A = $\\empty$ or D中样本在A上取值相同\n",
    "    # 将结点标记为叶结点，其类别标记为D中样本最多的类\n",
    "    if dataset.columns[0:-1].shape[0] == 0 or dataset.loc[:,dataset.columns[0:-1]].drop_duplicates().shape[0] == 1:\n",
    "        # 返回D中样本最多的类\n",
    "        return dataset['label'].value_counts().index[0]\n",
    "    #选择最优属性\n",
    "    spilt_feature,Gain = select_best_feature(dataset)\n",
    "    # 用最优属性划分D\n",
    "    subdataset_dict = spilt_dataset(dataset,spilt_feature = spilt_feature)\n",
    "    # 生成根节点\n",
    "    dtree = {spilt_feature:{}}\n",
    "    # !!!!为最优属性的每一个值生成一个结点     \n",
    "    #@@@@@注意生成分支的时候是利用整个训练集的在spilt feature上value而不是利用spilt_feature_value中的值\n",
    "    #@@@@@spilt_feature_value经过分支的不断生成，落在一个叶子结点上的sample数量的减少，会有分支缺失的现象\n",
    "    # total_spilt_feature_value\n",
    "    spilt_feature_value = init_dataset.loc[:,spilt_feature].unique()\n",
    "    for feature_value in spilt_feature_value:\n",
    "        # 若当前subdataset中没有值，即Dv为空，then 将分支结点标记为叶结点，其类别标记为D中样本最多的类\n",
    "        try:\n",
    "            dtree[spilt_feature][feature_value] = DecisionTree(subdataset_dict[feature_value])\n",
    "        except KeyError:\n",
    "            dtree[spilt_feature][feature_value] = dataset['label'].value_counts().index[0]\n",
    "    return dtree"
   ]
  },
  {
   "cell_type": "code",
   "execution_count": 20,
   "metadata": {},
   "outputs": [],
   "source": [
    "# TEST_set = pd.DataFrame([[0,0,0,0,'Y'],\n",
    "#             [0,0,0,0,'N'],\n",
    "#             [0,0,0,0,'Y']],columns = ['outlook', 'temperature', 'humidity', 'windy','label'])\n",
    "# TEST_set.loc[:,TEST_set.columns[0:-1]].drop_duplicates().shape[0] == 1\n",
    "# DecisionTree(TEST_set)"
   ]
  },
  {
   "cell_type": "code",
   "execution_count": 21,
   "metadata": {},
   "outputs": [
    {
     "data": {
      "text/plain": [
       "{'outlook': {0: 'N',\n",
       "  1: 'Y',\n",
       "  2: {'temperature': {0: 'Y', 1: 'Y', 2: {'windy': {0: 'Y', 1: 'N'}}}}}}"
      ]
     },
     "execution_count": 21,
     "metadata": {},
     "output_type": "execute_result"
    }
   ],
   "source": [
    "dtree = DecisionTree(train_set)\n",
    "dtree"
   ]
  },
  {
   "cell_type": "code",
   "execution_count": 22,
   "metadata": {},
   "outputs": [],
   "source": [
    "def sample_predict(row,dtree):\n",
    "    '''\n",
    "    parameters:\n",
    "        row:要预测的样本(单个)\n",
    "        dtree:DecisionTree\n",
    "    '''\n",
    "    root_feature = list(dtree.keys())[0]\n",
    "    root_value = dtree[root_feature]\n",
    "    # 遍历当前树中所有当前特征的取值\n",
    "    for feature_value in root_value.keys():\n",
    "        # 若row在当前特征的取值等于结点的feature\n",
    "        # print(row)\n",
    "        if row[root_feature] == feature_value:\n",
    "            row_class = root_value[feature_value]\n",
    "            if type(row_class) == dict:\n",
    "                return sample_predict(row,row_class)\n",
    "            else:\n",
    "                return row_class"
   ]
  },
  {
   "cell_type": "code",
   "execution_count": 23,
   "metadata": {},
   "outputs": [],
   "source": [
    "def predict(dataset,dtree):\n",
    "    '''\n",
    "    预测数据集结果\n",
    "    '''\n",
    "    predict_result = []\n",
    "    # print(dataset)\n",
    "    for index,row in dataset.iterrows():\n",
    "        predict_result.append(sample_predict(row,dtree))\n",
    "    return predict_result"
   ]
  },
  {
   "cell_type": "code",
   "execution_count": 24,
   "metadata": {},
   "outputs": [
    {
     "data": {
      "text/plain": [
       "['N', 'N', 'Y', 'N', 'Y', 'Y', 'Y']"
      ]
     },
     "execution_count": 24,
     "metadata": {},
     "output_type": "execute_result"
    }
   ],
   "source": [
    "predict(test_set,dtree)"
   ]
  },
  {
   "cell_type": "code",
   "execution_count": 25,
   "metadata": {},
   "outputs": [
    {
     "data": {
      "text/plain": [
       "['N', 'N', 'Y', 'Y', 'Y', 'N', 'Y']"
      ]
     },
     "execution_count": 25,
     "metadata": {},
     "output_type": "execute_result"
    }
   ],
   "source": [
    "predict(train_set,dtree)"
   ]
  },
  {
   "cell_type": "code",
   "execution_count": 26,
   "metadata": {},
   "outputs": [
    {
     "data": {
      "text/plain": [
       "['N', 'N', 'Y', 'Y', 'Y', 'N', 'Y']"
      ]
     },
     "execution_count": 26,
     "metadata": {},
     "output_type": "execute_result"
    }
   ],
   "source": [
    "list(train_set.label)"
   ]
  },
  {
   "cell_type": "code",
   "execution_count": 28,
   "metadata": {},
   "outputs": [
    {
     "data": {
      "image/png": "[encoded data removed]",
      "text/plain": [
       "<Figure size 432x288 with 1 Axes>"
      ]
     },
     "metadata": {},
     "output_type": "display_data"
    }
   ],
   "source": [
    "# 可视化\n",
    "import treePlotter\n",
    "treePlotter.createPlot(dtree)"
   ]
  }
 ],
 "metadata": {
  "kernelspec": {
   "display_name": "Python 3",
   "language": "python",
   "name": "python3"
  },
  "language_info": {
   "codemirror_mode": {
    "name": "ipython",
    "version": 3
   },
   "file_extension": ".py",
   "mimetype": "text/x-python",
   "name": "python",
   "nbconvert_exporter": "python",
   "pygments_lexer": "ipython3",
   "version": "3.7.1"
  }
 },
 "nbformat": 4,
 "nbformat_minor": 2
}
